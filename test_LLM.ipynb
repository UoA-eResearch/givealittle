{
 "cells": [
  {
   "cell_type": "code",
   "execution_count": 1,
   "metadata": {},
   "outputs": [
    {
     "data": {
      "text/html": [
       "<pre>✔️ 3.67 s (2024-11-19T11:33:51/2024-11-19T11:33:55)</pre>"
      ],
      "text/plain": [
       "<IPython.core.display.HTML object>"
      ]
     },
     "metadata": {},
     "output_type": "display_data"
    }
   ],
   "source": [
    "%reload_ext autotime\n",
    "import pandas as pd\n",
    "import requests\n",
    "from pprint import pprint\n",
    "import json\n",
    "pd.options.plotting.backend = \"plotly\"\n",
    "pd.set_option(\"display.max_columns\", None)\n",
    "pd.set_option(\"display.max_colwidth\", 100)\n",
    "\n",
    "df = pd.read_excel(\"givealittle_health.xlsx\")\n",
    "df.index = pd.to_datetime(df[\"start\"])\n",
    "df[\"text\"] = df.title.str.cat(df[[\"pitch\", \"description\", \"use_of_funds\"]].astype(str), sep=\" \")"
   ]
  },
  {
   "cell_type": "code",
   "execution_count": 3,
   "metadata": {},
   "outputs": [
    {
     "data": {
      "text/html": [
       "<pre>✔️ 3.85 s (2024-11-19T11:34:26/2024-11-19T11:34:30)</pre>"
      ],
      "text/plain": [
       "<IPython.core.display.HTML object>"
      ]
     },
     "metadata": {},
     "output_type": "display_data"
    },
    {
     "name": "stdout",
     "output_type": "stream",
     "text": [
      "meta-llama_Llama-3.2-3B-Instruct\n",
      "{'prompt_tokens': 488, 'completion_tokens': 81, 'total_tokens': 569}\n",
      "{'ICD10': 'C50 and J40',\n",
      " 'age': 32,\n",
      " 'condition': 'breast cancer and bronchiectasis',\n",
      " 'ethnicity': None,\n",
      " 'gender': 'female',\n",
      " 'name': 'Amy',\n",
      " 'sentiment': 95,\n",
      " 'truth': 95,\n",
      " 'urgency': 90}\n"
     ]
    }
   ],
   "source": [
    "URL = \"https://llm.auckland-cer.cloud.edu.au/v1/chat/completions/\"\n",
    "\n",
    "history = [\n",
    "    {\n",
    "        \"role\": \"system\",\n",
    "        \"content\": \"\"\"\n",
    "            The below message is text extracted from givealittle, a crowdfunding platform. It's a health related campaign.\n",
    "            For the text below, extract the following information, in JSON format:\n",
    "            condition: the primary health condition mentioned in the text\n",
    "            ICD10: the ICD10 code for the primary health condition\n",
    "            name: the name of the person this campaign is for\n",
    "            gender: the gender of the person this campaign is for\n",
    "            age: the age of the person this campaign is for\n",
    "            ethnicity: the ethnicity of the person this campaign is for\n",
    "            urgency: a number from 0-100, indicating how urgent the need is\n",
    "            sentiment: a number from 0-100, indicating the sentiment of the text, where 100 is the most positive, and 0 is the most negative\n",
    "            truth: a number from 0-100, indicating how truthful the text is, where 100 is the most truthful, and 0 is the least truthful\n",
    "\n",
    "            Do not include comments in your JSON response. Only respond with the JSON object. Do not prefix JSON key names with _.\n",
    "        \"\"\"\n",
    "    },\n",
    "    {\n",
    "        \"role\": \"user\",\n",
    "        \"content\": \"\"\"\n",
    "            Imagine facing one of life's biggest battles while also caring for a young family.\n",
    "            Our beloved Amy was recently diagnosed with aggressive breast cancer in both breasts, she is 32 years old a wife and mother of three. She is showing incredible strength and courage. Between treatments, doctors visits, and trying to stay positive for her children, she is fighting hard.\n",
    "            Some of you may already know about the ongoing struggles with there youngest sons health who has also recently been diagnosed with the life long condition of bronchiectasis. And on top of all of this there only form of transport is needing a new motor.\n",
    "            There family would appreciate any help with any donations to help with the financial burden they are facing.\n",
    "            If you can give a little, anything you can spare, it would go a long way in lightening the load during an incredibly tough time. From covering medical expenses to keeping things steady at home, your support will make a real difference.\n",
    "            Let's come together to show Amy that she is not alone in this fight.\n",
    "            Thank you so much for being apart of her journey to healing and hope.\n",
    "        \"\"\"\n",
    "    }\n",
    "]\n",
    "data = {\n",
    "    \"mode\": \"instruct\",\n",
    "    \"messages\": history\n",
    "}\n",
    "\n",
    "response = requests.post(URL, json=data).json()\n",
    "print(response[\"model\"])\n",
    "print(response[\"usage\"])\n",
    "pprint(json.loads(response[\"choices\"][0][\"message\"][\"content\"]))"
   ]
  }
 ],
 "metadata": {
  "kernelspec": {
   "display_name": "Python 3",
   "language": "python",
   "name": "python3"
  },
  "language_info": {
   "codemirror_mode": {
    "name": "ipython",
    "version": 3
   },
   "file_extension": ".py",
   "mimetype": "text/x-python",
   "name": "python",
   "nbconvert_exporter": "python",
   "pygments_lexer": "ipython3",
   "version": "3.10.12"
  }
 },
 "nbformat": 4,
 "nbformat_minor": 2
}
